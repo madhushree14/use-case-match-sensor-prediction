{
 "cells": [
  {
   "cell_type": "code",
   "execution_count": 170,
   "id": "oriental-smile",
   "metadata": {},
   "outputs": [],
   "source": [
    "import pandas as pd\n",
    "import numpy as np\n",
    "from random import randrange\n",
    "import datetime \n",
    "import random"
   ]
  },
  {
   "cell_type": "code",
   "execution_count": 21,
   "id": "advance-attention",
   "metadata": {},
   "outputs": [],
   "source": [
    "def generate_time(startTime, n):\n",
    "    current = startTime\n",
    "    while n >= 0:\n",
    "        current = current + datetime.timedelta(seconds=randrange(10))\n",
    "        yield current\n",
    "        n -= 1"
   ]
  },
  {
   "cell_type": "code",
   "execution_count": 85,
   "id": "visible-final",
   "metadata": {},
   "outputs": [],
   "source": [
    "def genearte_dataframe(n_readings, n_sensors, startTime):\n",
    "    \"Creates dataframe of specified number of sensors data\"\n",
    "    \n",
    "    get_timStamp = [x for x in list(generate_time(startTime,n_readings))]\n",
    "    get_readings = {f\"senor{i}\":[round(random.uniform(18, 25),2) for _ in range(n_readings)] for i in list(range(1,n_sensors))}\n",
    "    get_df = pd.concat([pd.DataFrame(get_timStamp, columns=[\"timeStamp\"]),  pd.DataFrame(get_readings)], axis=1)\n",
    "    get_df.timeStamp = pd.to_datetime(get_df.timeStamp, infer_datetime_format=True)\n",
    "    \n",
    "    return get_df"
   ]
  },
  {
   "cell_type": "code",
   "execution_count": 193,
   "id": "experienced-chain",
   "metadata": {},
   "outputs": [],
   "source": [
    "def result(n_org, n_pred, n_sensor, startTime):\n",
    "    \n",
    "    org_df = genearte_dataframe(n_org, n_sensor, startTime)\n",
    "    pred_df = genearte_dataframe(n_pred, n_sensor, startTime)\n",
    "    pred_df.set_index(\"timeStamp\", inplace=True)\n",
    "    pred_df = pred_df.mask(np.random.random(pred_df.shape) < .1)\n",
    "    pred_df.fillna(0, inplace=True)\n",
    "    pred_df.reset_index(None, inplace=True)\n",
    "    result_table = pd.merge_asof(org_df, pred_df, on=\"timeStamp\", direction='nearest')\n",
    "    result_table.columns = result_table.columns.str.replace(\"x\", \"real\")\n",
    "    result_table.columns = result_table.columns.str.replace(\"y\", \"pred\")\n",
    "    result_dict = result_table.to_dict(orient=\"index\") # not preferred\n",
    "    \n",
    "    return result_table"
   ]
  },
  {
   "cell_type": "code",
   "execution_count": 194,
   "id": "hired-traffic",
   "metadata": {},
   "outputs": [],
   "source": [
    "startTime = datetime.datetime(2020,12,1,0,0,0)\n",
    "n_org = 5  # number of original readings\n",
    "n_pred = 15  # number of predicted readings\n",
    "n_sensor = 5  # number of sensors\n",
    "result_df = result(n_org, n_pred, n_sensor, startTime)"
   ]
  },
  {
   "cell_type": "markdown",
   "id": "available-favor",
   "metadata": {},
   "source": [
    "### Choosing python dataframe as resultant datastructure. \n",
    "* Although python dict would perform in search operation with o(1) complexity but as the number of sensors grows this will increase the number of columns which in tern makes the dict slower. \n",
    "* Another reason of selecting dataframe, as we have datetime values in our resultant data we can perform a range search like df.loc[\"2020/01/12 00:00:00\" : \"2020/01/13 00:00:55\"]. \n",
    "* Again if we use nested dict then a for loop will make computation even slower. \n",
    "* The result_df has unnique sorted timestamp which means accessing rows will be O(m) where m << row_num "
   ]
  },
  {
   "cell_type": "code",
   "execution_count": 196,
   "id": "fluid-caution",
   "metadata": {},
   "outputs": [],
   "source": [
    "# TEST CASE\n",
    "startTime = datetime.datetime(2020,12,1,0,0,0)\n",
    "n_org = 3000  # number of original readings\n",
    "n_pred = 15000  # number of predicted readings\n",
    "n_sensor = 500  # number of sensors\n",
    "result_df = result(n_org, n_pred, n_sensor, startTime)"
   ]
  }
 ],
 "metadata": {
  "kernelspec": {
   "display_name": "Python 3",
   "language": "python",
   "name": "python3"
  },
  "language_info": {
   "codemirror_mode": {
    "name": "ipython",
    "version": 3
   },
   "file_extension": ".py",
   "mimetype": "text/x-python",
   "name": "python",
   "nbconvert_exporter": "python",
   "pygments_lexer": "ipython3",
   "version": "3.8.3"
  }
 },
 "nbformat": 4,
 "nbformat_minor": 5
}
