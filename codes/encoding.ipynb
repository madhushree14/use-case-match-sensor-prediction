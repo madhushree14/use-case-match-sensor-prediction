{
 "cells": [
  {
   "cell_type": "code",
   "execution_count": 1,
   "id": "super-tsunami",
   "metadata": {},
   "outputs": [],
   "source": [
    "import json\n",
    "import ast\n",
    "import re\n",
    "import pandas as pd"
   ]
  },
  {
   "cell_type": "code",
   "execution_count": 2,
   "id": "cutting-plane",
   "metadata": {},
   "outputs": [],
   "source": [
    "with open('2000.json') as f:\n",
    "    data = json.load(f)"
   ]
  },
  {
   "cell_type": "code",
   "execution_count": 3,
   "id": "armed-horizon",
   "metadata": {},
   "outputs": [],
   "source": [
    "def replace_str(string):\n",
    "    \"Replaces dots from strings\"\n",
    "    \n",
    "    return re.sub(r\"\\.(?=\\.?[A-Z0-9])\", '', string)"
   ]
  },
  {
   "cell_type": "code",
   "execution_count": 4,
   "id": "cheap-header",
   "metadata": {},
   "outputs": [],
   "source": [
    "for i in data['objects']['Vendor Proprietary Value']:\n",
    "    # removing \"out-of-service\"\n",
    "    i['properties'].pop('out-of-service', None)\n",
    "    \n",
    "    for k,v  in i['properties'].items():\n",
    "        if str(v).startswith(\"\"\"\\\"\"\"\"):\n",
    "            # removing quotes\n",
    "            i['properties'][k] = (ast.literal_eval(v))\n",
    "        v = str(v)\n",
    "        if \".\" in v:\n",
    "            i['properties'][k] = replace_str(v)"
   ]
  },
  {
   "cell_type": "code",
   "execution_count": 5,
   "id": "listed-science",
   "metadata": {},
   "outputs": [],
   "source": [
    "old_string = '.H.E.I.Z.G.R.U.P.P.E'\n",
    "new_strng = replace_str(old_string)"
   ]
  },
  {
   "cell_type": "code",
   "execution_count": 6,
   "id": "twenty-armenia",
   "metadata": {},
   "outputs": [],
   "source": [
    "with open('result.json', 'w') as fp:\n",
    "    json.dump(data, fp)"
   ]
  },
  {
   "cell_type": "code",
   "execution_count": 8,
   "id": "formed-burke",
   "metadata": {},
   "outputs": [],
   "source": []
  }
 ],
 "metadata": {
  "kernelspec": {
   "display_name": "Python 3",
   "language": "python",
   "name": "python3"
  },
  "language_info": {
   "codemirror_mode": {
    "name": "ipython",
    "version": 3
   },
   "file_extension": ".py",
   "mimetype": "text/x-python",
   "name": "python",
   "nbconvert_exporter": "python",
   "pygments_lexer": "ipython3",
   "version": "3.8.3"
  }
 },
 "nbformat": 4,
 "nbformat_minor": 5
}
